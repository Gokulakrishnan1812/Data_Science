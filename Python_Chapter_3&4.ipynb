{
 "cells": [
  {
   "cell_type": "markdown",
   "id": "11aa39a2-66a8-473f-a465-2ffd76e80131",
   "metadata": {},
   "source": [
    "## Input Function"
   ]
  },
  {
   "cell_type": "markdown",
   "id": "f74ad85c-17a6-4ab7-87ea-1c180e591037",
   "metadata": {},
   "source": [
    "## Addition"
   ]
  },
  {
   "cell_type": "code",
   "execution_count": 8,
   "id": "c108555a-52ca-4ac4-b8c1-79d0b2469a0a",
   "metadata": {},
   "outputs": [
    {
     "name": "stdin",
     "output_type": "stream",
     "text": [
      "Enter the first number 20\n",
      "Enter the second number 20\n"
     ]
    },
    {
     "name": "stdout",
     "output_type": "stream",
     "text": [
      "40\n"
     ]
    }
   ],
   "source": [
    "a=int(input(\"Enter the first number\"))\n",
    "b=int(input(\"Enter the second number\"))\n",
    "sum=a+b\n",
    "print(sum)"
   ]
  },
  {
   "cell_type": "markdown",
   "id": "9541011f-8b0b-477c-beb3-817ef02f2322",
   "metadata": {},
   "source": [
    "## Pls display name and age using input function"
   ]
  },
  {
   "cell_type": "code",
   "execution_count": 50,
   "id": "30042ac0-7e12-4bc2-965b-17d54dd1d690",
   "metadata": {},
   "outputs": [
    {
     "name": "stdin",
     "output_type": "stream",
     "text": [
      "Enter your name Gokulakrishnan\n",
      "Enter your age 31\n"
     ]
    },
    {
     "name": "stdout",
     "output_type": "stream",
     "text": [
      "HiGokulakrishnanyour age is31and it's your b'day\n"
     ]
    }
   ],
   "source": [
    "x=input(\"Enter your name\")\n",
    "y=input(\"Enter your age\")\n",
    "print(\"Hi\" + x +  \"your age is\"  + y +  \"and it's your b'day\")"
   ]
  },
  {
   "cell_type": "code",
   "execution_count": 54,
   "id": "aec5e464-c729-43f7-bea8-d0427ac69ced",
   "metadata": {},
   "outputs": [
    {
     "name": "stdout",
     "output_type": "stream",
     "text": [
      " Hi Gokulakrishnan your age is 31 and it's your b'day\n"
     ]
    }
   ],
   "source": [
    "print(f\" Hi {x} your age is {y} and it's your b'day\")       ## Using f - string is easy to format or present the outout clearly"
   ]
  },
  {
   "cell_type": "markdown",
   "id": "81160cca-2749-43e1-a215-e93ba99707ad",
   "metadata": {},
   "source": [
    "## Pls add 5 to your age with above code? "
   ]
  },
  {
   "cell_type": "code",
   "execution_count": 72,
   "id": "0f48200c-5727-4006-b060-ef88cb34a92b",
   "metadata": {},
   "outputs": [
    {
     "name": "stdin",
     "output_type": "stream",
     "text": [
      "Enter your name Gokul\n",
      "Enter your age 31\n"
     ]
    },
    {
     "name": "stdout",
     "output_type": "stream",
     "text": [
      " Hi Gokul your age is 36 and it's your b'day\n"
     ]
    }
   ],
   "source": [
    "x=input(\"Enter your name\")\n",
    "y=int(input(\"Enter your age\"))\n",
    "print(f\" Hi {x} your age is {y+5} and it's your b'day\")"
   ]
  },
  {
   "cell_type": "code",
   "execution_count": null,
   "id": "86eac8a9-f42e-4c1c-a1cf-4108417e4c81",
   "metadata": {},
   "outputs": [],
   "source": [
    "                                                         "
   ]
  },
  {
   "cell_type": "markdown",
   "id": "d23a4dc6-ae11-4b36-af3d-1b1b253a5d69",
   "metadata": {},
   "source": [
    "## Conditional statement"
   ]
  },
  {
   "cell_type": "markdown",
   "id": "8e85f140-078c-460e-b46b-3308b8298753",
   "metadata": {},
   "source": [
    "## If"
   ]
  },
  {
   "cell_type": "code",
   "execution_count": 35,
   "id": "98625684-069e-4a74-be6c-e41375b2f806",
   "metadata": {},
   "outputs": [
    {
     "name": "stdin",
     "output_type": "stream",
     "text": [
      "Enter the age 15\n"
     ]
    },
    {
     "name": "stdout",
     "output_type": "stream",
     "text": [
      "You Can Enter\n",
      "Byee\n"
     ]
    }
   ],
   "source": [
    "age=int(input(\"Enter the age\"))\n",
    "Allowed_Age=18\n",
    "##Notallowed_Age=19\n",
    "if age<Allowed_Age:\n",
    "    print(\"You Can Enter\")\n",
    "##if age>Notallowed_Age:\n",
    "print(\"Byee\")"
   ]
  },
  {
   "cell_type": "code",
   "execution_count": 17,
   "id": "58a68c9b-8c03-42a0-b904-4e2112f14dcd",
   "metadata": {},
   "outputs": [],
   "source": []
  },
  {
   "cell_type": "markdown",
   "id": "248f37ce-a0b1-4cc8-ac7c-fa2348ad865e",
   "metadata": {},
   "source": [
    "## ifelse"
   ]
  },
  {
   "cell_type": "code",
   "execution_count": 33,
   "id": "12522616-aadc-4195-8f7c-4edb94460055",
   "metadata": {},
   "outputs": [
    {
     "name": "stdin",
     "output_type": "stream",
     "text": [
      "Enter the age 50\n"
     ]
    },
    {
     "name": "stdout",
     "output_type": "stream",
     "text": [
      "You Can't Enter\n"
     ]
    }
   ],
   "source": [
    "age=int(input(\"Enter the age\"))\n",
    "Allowed_Age=18\n",
    "if age<Allowed_Age:\n",
    "    print(\"You Can Enter\")\n",
    "else:\n",
    "    print(\"You Can't Enter\")"
   ]
  },
  {
   "cell_type": "code",
   "execution_count": null,
   "id": "d382b5b9-873b-4991-afc5-e053ae108b20",
   "metadata": {},
   "outputs": [],
   "source": []
  },
  {
   "cell_type": "markdown",
   "id": "995a1f8b-0906-4957-bd2f-45b953359583",
   "metadata": {},
   "source": [
    "## if elif else"
   ]
  },
  {
   "cell_type": "code",
   "execution_count": 37,
   "id": "ec37dd63-5eb1-497f-9189-c26797ac5dd4",
   "metadata": {},
   "outputs": [
    {
     "name": "stdin",
     "output_type": "stream",
     "text": [
      "Enter the first number 25\n",
      "Enter the second number 25\n"
     ]
    },
    {
     "name": "stdout",
     "output_type": "stream",
     "text": [
      "a and b are equal\n"
     ]
    }
   ],
   "source": [
    "a=int(input(\"Enter the first number\"))\n",
    "b=int(input(\"Enter the second number\"))\n",
    "\n",
    "if b>a:\n",
    "    print(\"b is greater than a\")\n",
    "\n",
    "elif b==a:\n",
    "    print(\"a and b are equal\")\n",
    "\n",
    "else:\n",
    "    print(\"b is less than a\")"
   ]
  },
  {
   "cell_type": "code",
   "execution_count": 38,
   "id": "97ce083d-e056-447c-9a6a-c5bc78abc62c",
   "metadata": {},
   "outputs": [
    {
     "name": "stdin",
     "output_type": "stream",
     "text": [
      "Enter the first number 18\n",
      "Enter the second number 35\n"
     ]
    },
    {
     "name": "stdout",
     "output_type": "stream",
     "text": [
      "b is greater than a\n"
     ]
    }
   ],
   "source": [
    "a=int(input(\"Enter the first number\"))\n",
    "b=int(input(\"Enter the second number\"))\n",
    "\n",
    "if b>a:\n",
    "    print(\"b is greater than a\")\n",
    "\n",
    "elif b==a:\n",
    "    print(\"a and b are equal\")\n",
    "\n",
    "else:\n",
    "    print(\"b is less than a\")"
   ]
  },
  {
   "cell_type": "code",
   "execution_count": 39,
   "id": "0bdddc3a-ccfa-4828-9401-a326355114cb",
   "metadata": {},
   "outputs": [
    {
     "name": "stdin",
     "output_type": "stream",
     "text": [
      "Enter the first number 100\n",
      "Enter the second number 15\n"
     ]
    },
    {
     "name": "stdout",
     "output_type": "stream",
     "text": [
      "b is less than a\n"
     ]
    }
   ],
   "source": [
    "a=int(input(\"Enter the first number\"))\n",
    "b=int(input(\"Enter the second number\"))\n",
    "\n",
    "if b>a:\n",
    "    print(\"b is greater than a\")\n",
    "\n",
    "elif b==a:\n",
    "    print(\"a and b are equal\")\n",
    "\n",
    "else:\n",
    "    print(\"b is less than a\")"
   ]
  },
  {
   "cell_type": "code",
   "execution_count": null,
   "id": "4f1bb135-8b4f-43a1-b0cf-ed4dd9800043",
   "metadata": {},
   "outputs": [],
   "source": []
  },
  {
   "cell_type": "markdown",
   "id": "a97dfaf4-d977-4289-87bf-cd5e84863395",
   "metadata": {},
   "source": [
    "## Task 1 (\"Nested ifelse sample program\")"
   ]
  },
  {
   "cell_type": "markdown",
   "id": "b6da90db-66fb-45c4-9deb-5406fbb9f6cc",
   "metadata": {},
   "source": [
    "## Python Loops"
   ]
  },
  {
   "cell_type": "markdown",
   "id": "8cf116d3-8759-42be-a819-f01602c1b69f",
   "metadata": {},
   "source": [
    "## While Loops "
   ]
  },
  {
   "cell_type": "code",
   "execution_count": 43,
   "id": "0998e2ce-fb1c-4a93-b2f6-5d6884f2ca8a",
   "metadata": {},
   "outputs": [
    {
     "name": "stdout",
     "output_type": "stream",
     "text": [
      "Gokul\n",
      "0\n",
      "Gokul\n",
      "1\n",
      "Gokul\n",
      "2\n",
      "Gokul\n",
      "3\n",
      "Gokul\n",
      "4\n",
      "Gokul\n",
      "5\n"
     ]
    }
   ],
   "source": [
    "i=0\n",
    "while i<6:\n",
    "    print(\"Gokul\")\n",
    "    print(i)\n",
    "    i+=1"
   ]
  },
  {
   "cell_type": "markdown",
   "id": "db5593d4-19a0-4742-87b6-b3ea5042ed08",
   "metadata": {},
   "source": [
    "## For Loops"
   ]
  },
  {
   "cell_type": "code",
   "execution_count": 45,
   "id": "d077df6c-9058-4a6d-9c8d-54340cd3523e",
   "metadata": {},
   "outputs": [
    {
     "name": "stdout",
     "output_type": "stream",
     "text": [
      "50\n",
      "52\n",
      "60\n",
      "62\n",
      "70\n",
      "72\n",
      "85\n",
      "87\n",
      "90\n",
      "92\n"
     ]
    }
   ],
   "source": [
    "a=[50,60,70,85,90]\n",
    "\n",
    "for i in a:\n",
    "    print(i)\n",
    "    print(i+2) ## In the below output it works like printing i value at first and again priting i value with addition of 2 (This is Iterator method goes one by one)"
   ]
  },
  {
   "cell_type": "markdown",
   "id": "41e8fec6-38d6-4319-81d9-35200159d792",
   "metadata": {},
   "source": [
    "## Break statement"
   ]
  },
  {
   "cell_type": "code",
   "execution_count": 48,
   "id": "d5dd2b60-e4b9-46b4-88bf-3ead159d5bf3",
   "metadata": {},
   "outputs": [
    {
     "name": "stdout",
     "output_type": "stream",
     "text": [
      "Gokul\n",
      "0\n",
      "Gokul\n",
      "1\n",
      "Gokul\n",
      "2\n",
      "Gokul\n",
      "3\n",
      "Gokul\n",
      "4\n",
      "Thanks\n"
     ]
    }
   ],
   "source": [
    "i=0                    # Declaring \"i\" here\n",
    "while i<6:             # Applying a condition that \"i\" lessthan 6\n",
    "    print(\"Gokul\")     # Printing some info\n",
    "    print(i)           # Printing \"i\" to diplay the value at each time it increases\n",
    "    if i==4:           # Applying if condition to compare \"i\" value with the given value 4\n",
    "        break          # Applying break statement to stop the process whrn it reaches the given value \n",
    "    i+=1               # This is the condition it will add +1 with \"i\"\n",
    "print(\"Thanks\")"
   ]
  },
  {
   "cell_type": "markdown",
   "id": "be71c8ae-90e3-4a26-a3c2-ca75085d331e",
   "metadata": {},
   "source": [
    "## Continue statement "
   ]
  },
  {
   "cell_type": "code",
   "execution_count": 50,
   "id": "05d7ad00-f1e9-4373-b2ee-24b21b49d6a7",
   "metadata": {},
   "outputs": [
    {
     "name": "stdout",
     "output_type": "stream",
     "text": [
      "1\n",
      "2\n",
      "4\n",
      "5\n",
      "6\n"
     ]
    }
   ],
   "source": [
    "i=0\n",
    "while i<6:\n",
    "    i+=1\n",
    "\n",
    "    if i==3:\n",
    "        continue      ## In this line - It will skip this step and continue to next step\n",
    "    print(i)"
   ]
  },
  {
   "cell_type": "markdown",
   "id": "833d7317-328d-4e8c-8b61-c50b35dcc9d5",
   "metadata": {},
   "source": [
    "## Task"
   ]
  },
  {
   "cell_type": "markdown",
   "id": "68f575d0-380f-4b15-9bc9-76a5cae5c4bc",
   "metadata": {},
   "source": [
    "## Create a account in Hacker Rank and try conditional statement,loops,operators,Ip(),Print()........ "
   ]
  },
  {
   "cell_type": "markdown",
   "id": "70e5cd3d-330d-4067-ac88-68551ef1786b",
   "metadata": {},
   "source": [
    "## Create a github account and upload the documents....."
   ]
  },
  {
   "cell_type": "code",
   "execution_count": null,
   "id": "e206ef49-a37b-46ac-ae50-955f6ef493a4",
   "metadata": {},
   "outputs": [],
   "source": []
  }
 ],
 "metadata": {
  "kernelspec": {
   "display_name": "Python 3 (ipykernel)",
   "language": "python",
   "name": "python3"
  },
  "language_info": {
   "codemirror_mode": {
    "name": "ipython",
    "version": 3
   },
   "file_extension": ".py",
   "mimetype": "text/x-python",
   "name": "python",
   "nbconvert_exporter": "python",
   "pygments_lexer": "ipython3",
   "version": "3.13.2"
  }
 },
 "nbformat": 4,
 "nbformat_minor": 5
}
