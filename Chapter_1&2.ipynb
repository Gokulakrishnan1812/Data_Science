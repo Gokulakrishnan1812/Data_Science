{
 "cells": [
  {
   "cell_type": "markdown",
   "id": "28c574f7-27e8-460f-a63a-aeb1b4c23be9",
   "metadata": {},
   "source": [
    "## Chapter 1"
   ]
  },
  {
   "cell_type": "markdown",
   "id": "f55f87f6-3350-4043-a4ea-c215a4d60d4a",
   "metadata": {},
   "source": [
    "## 1.1 Hello World Program"
   ]
  },
  {
   "cell_type": "code",
   "execution_count": 3,
   "id": "2257ec65-d60d-4904-9af7-d575b3362981",
   "metadata": {},
   "outputs": [
    {
     "name": "stdout",
     "output_type": "stream",
     "text": [
      "Hello world_1_2\n"
     ]
    }
   ],
   "source": [
    "print(\"Hello world_1_2\")"
   ]
  },
  {
   "cell_type": "code",
   "execution_count": 12,
   "id": "1fbd6cb0-be36-4bb3-9f9c-8a6f38d4eb51",
   "metadata": {},
   "outputs": [
    {
     "data": {
      "text/plain": [
       "100"
      ]
     },
     "execution_count": 12,
     "metadata": {},
     "output_type": "execute_result"
    }
   ],
   "source": [
    "x=100\n",
    "x"
   ]
  },
  {
   "cell_type": "code",
   "execution_count": 13,
   "id": "7d16a588-21bf-4c88-a53d-dc55282cd5aa",
   "metadata": {},
   "outputs": [
    {
     "name": "stdout",
     "output_type": "stream",
     "text": [
      "100\n"
     ]
    }
   ],
   "source": [
    "print(x)"
   ]
  },
  {
   "cell_type": "code",
   "execution_count": 14,
   "id": "a99d40e3-73db-4f8b-81ab-e510dd6fd4c2",
   "metadata": {},
   "outputs": [
    {
     "name": "stdout",
     "output_type": "stream",
     "text": [
      "This is my second session\n"
     ]
    }
   ],
   "source": [
    "print(\"This is my second session\")"
   ]
  },
  {
   "cell_type": "code",
   "execution_count": 16,
   "id": "abc3b96a-6415-4d52-b39e-758f1c5d0fcd",
   "metadata": {},
   "outputs": [
    {
     "name": "stdout",
     "output_type": "stream",
     "text": [
      "Gokul's learning speed is slow\n"
     ]
    }
   ],
   "source": [
    "print(\"Gokul's learning speed is slow\") #(If single quotation means use double quotation)"
   ]
  },
  {
   "cell_type": "code",
   "execution_count": 17,
   "id": "17a20416-84ca-47ef-99db-4a0d4b24c4d4",
   "metadata": {},
   "outputs": [
    {
     "ename": "SyntaxError",
     "evalue": "unterminated string literal (detected at line 1) (232952774.py, line 1)",
     "output_type": "error",
     "traceback": [
      "\u001b[1;36m  Cell \u001b[1;32mIn[17], line 1\u001b[1;36m\u001b[0m\n\u001b[1;33m    print(\"Gokul\"s learning speed is slow\")\u001b[0m\n\u001b[1;37m                                         ^\u001b[0m\n\u001b[1;31mSyntaxError\u001b[0m\u001b[1;31m:\u001b[0m unterminated string literal (detected at line 1)\n"
     ]
    }
   ],
   "source": [
    "print(\"Gokul\"s learning speed is slow\") #(Error becuause double quotation is present in the string)"
   ]
  },
  {
   "cell_type": "code",
   "execution_count": 18,
   "id": "97436dcd-a6c6-490e-b196-8e6b49f0f877",
   "metadata": {},
   "outputs": [
    {
     "name": "stdout",
     "output_type": "stream",
     "text": [
      "Gokul\"s learning speed is slow\n"
     ]
    }
   ],
   "source": [
    "print('''Gokul\"s learning speed is slow''') #(If double quotation means use triple quotation)"
   ]
  },
  {
   "cell_type": "markdown",
   "id": "8ef32795-109f-41ef-a04a-d43427c057d3",
   "metadata": {},
   "source": [
    "## 1.2 Variables"
   ]
  },
  {
   "cell_type": "code",
   "execution_count": 19,
   "id": "c2a8aa3c-5b68-4a1b-8700-c7a7de948637",
   "metadata": {},
   "outputs": [
    {
     "ename": "NameError",
     "evalue": "name 'X' is not defined",
     "output_type": "error",
     "traceback": [
      "\u001b[1;31m---------------------------------------------------------------------------\u001b[0m",
      "\u001b[1;31mNameError\u001b[0m                                 Traceback (most recent call last)",
      "Cell \u001b[1;32mIn[19], line 2\u001b[0m\n\u001b[0;32m      1\u001b[0m x\u001b[38;5;241m=\u001b[39m\u001b[38;5;241m100\u001b[39m\n\u001b[1;32m----> 2\u001b[0m \u001b[38;5;28mprint\u001b[39m(\u001b[43mX\u001b[49m)\n",
      "\u001b[1;31mNameError\u001b[0m: name 'X' is not defined"
     ]
    }
   ],
   "source": [
    "x=100\n",
    "print(X)"
   ]
  },
  {
   "cell_type": "code",
   "execution_count": 20,
   "id": "49744cc1-7de1-48da-a3d5-f9ee845bb70f",
   "metadata": {},
   "outputs": [
    {
     "data": {
      "text/plain": [
       "int"
      ]
     },
     "execution_count": 20,
     "metadata": {},
     "output_type": "execute_result"
    }
   ],
   "source": [
    "type(x)"
   ]
  },
  {
   "cell_type": "code",
   "execution_count": 21,
   "id": "02651fab-b35d-4756-8659-07a24257162b",
   "metadata": {},
   "outputs": [
    {
     "data": {
      "text/plain": [
       "100.2"
      ]
     },
     "execution_count": 21,
     "metadata": {},
     "output_type": "execute_result"
    }
   ],
   "source": [
    "x=100.20\n",
    "x"
   ]
  },
  {
   "cell_type": "code",
   "execution_count": 22,
   "id": "242fdfaf-d6b1-439e-8391-d49d81f69ca1",
   "metadata": {},
   "outputs": [
    {
     "data": {
      "text/plain": [
       "float"
      ]
     },
     "execution_count": 22,
     "metadata": {},
     "output_type": "execute_result"
    }
   ],
   "source": [
    "type(x)"
   ]
  },
  {
   "cell_type": "code",
   "execution_count": 23,
   "id": "ac5c15b8-b78a-4d7c-bb9d-87ed5b778614",
   "metadata": {},
   "outputs": [
    {
     "ename": "SyntaxError",
     "evalue": "invalid decimal literal (915331179.py, line 1)",
     "output_type": "error",
     "traceback": [
      "\u001b[1;36m  Cell \u001b[1;32mIn[23], line 1\u001b[1;36m\u001b[0m\n\u001b[1;33m    100G=1000\u001b[0m\n\u001b[1;37m      ^\u001b[0m\n\u001b[1;31mSyntaxError\u001b[0m\u001b[1;31m:\u001b[0m invalid decimal literal\n"
     ]
    }
   ],
   "source": [
    "100G=1000 #(It should not start with alpha-numeric )"
   ]
  },
  {
   "cell_type": "code",
   "execution_count": 24,
   "id": "a9931233-bc8c-4857-98c0-563496792d28",
   "metadata": {},
   "outputs": [],
   "source": [
    "G=1000"
   ]
  },
  {
   "cell_type": "code",
   "execution_count": 26,
   "id": "c1ce35a3-4dfa-4493-a831-9380b160539a",
   "metadata": {},
   "outputs": [
    {
     "data": {
      "text/plain": [
       "int"
      ]
     },
     "execution_count": 26,
     "metadata": {},
     "output_type": "execute_result"
    }
   ],
   "source": [
    "type(G)"
   ]
  },
  {
   "cell_type": "markdown",
   "id": "f9789c79-26ee-4956-8ab4-d76c90cc230f",
   "metadata": {},
   "source": [
    "## 1.3 python comments "
   ]
  },
  {
   "cell_type": "code",
   "execution_count": 32,
   "id": "c8a56493-4e3d-41ec-8622-c4c3afedd024",
   "metadata": {},
   "outputs": [
    {
     "name": "stdout",
     "output_type": "stream",
     "text": [
      "30\n"
     ]
    }
   ],
   "source": [
    "#sum of a and b # easy to understand the program\n",
    "\n",
    "'''sum of a and b'''\n",
    "\n",
    "a=10\n",
    "b=20\n",
    "sum=a+b\n",
    "print(sum)"
   ]
  },
  {
   "cell_type": "markdown",
   "id": "173f824e-7330-4d72-978f-f7e2ac3704b5",
   "metadata": {},
   "source": [
    "## 1.4 Data Types"
   ]
  },
  {
   "cell_type": "code",
   "execution_count": 37,
   "id": "00e8f893-b862-4aec-aa73-47fcab35332f",
   "metadata": {},
   "outputs": [],
   "source": [
    "a=10 #Integer"
   ]
  },
  {
   "cell_type": "code",
   "execution_count": 38,
   "id": "964981f3-eb2a-40ac-b9bf-b9a8d4782809",
   "metadata": {},
   "outputs": [],
   "source": [
    "b=10.5 #Floating"
   ]
  },
  {
   "cell_type": "code",
   "execution_count": 39,
   "id": "46c87633-47a1-4b61-9b6e-8882fbd6d6ab",
   "metadata": {},
   "outputs": [],
   "source": [
    "c=3+5j #complex"
   ]
  },
  {
   "cell_type": "code",
   "execution_count": 40,
   "id": "b81faab8-7edf-44c5-9fb2-e27b52947ce6",
   "metadata": {},
   "outputs": [
    {
     "data": {
      "text/plain": [
       "False"
      ]
     },
     "execution_count": 40,
     "metadata": {},
     "output_type": "execute_result"
    }
   ],
   "source": [
    "(1==0) #Boolean"
   ]
  },
  {
   "cell_type": "code",
   "execution_count": 43,
   "id": "c9fe3f99-9478-4b6c-a25c-1d8a08e4930f",
   "metadata": {},
   "outputs": [],
   "source": [
    "name=\"Gokul\" #String"
   ]
  },
  {
   "cell_type": "code",
   "execution_count": 44,
   "id": "5ee4d210-d2f9-4dfa-846e-3e85b18e8959",
   "metadata": {},
   "outputs": [
    {
     "data": {
      "text/plain": [
       "'Gokul'"
      ]
     },
     "execution_count": 44,
     "metadata": {},
     "output_type": "execute_result"
    }
   ],
   "source": [
    "name"
   ]
  },
  {
   "cell_type": "code",
   "execution_count": 45,
   "id": "42cf51c9-ee63-45a6-a8e2-2917ce5f6455",
   "metadata": {},
   "outputs": [
    {
     "data": {
      "text/plain": [
       "float"
      ]
     },
     "execution_count": 45,
     "metadata": {},
     "output_type": "execute_result"
    }
   ],
   "source": [
    "type(b)"
   ]
  },
  {
   "cell_type": "code",
   "execution_count": 46,
   "id": "ca7fb477-ae16-4946-9d2b-d675bb79a12d",
   "metadata": {},
   "outputs": [
    {
     "data": {
      "text/plain": [
       "complex"
      ]
     },
     "execution_count": 46,
     "metadata": {},
     "output_type": "execute_result"
    }
   ],
   "source": [
    "type(c)"
   ]
  },
  {
   "cell_type": "code",
   "execution_count": 47,
   "id": "28773a92-67e2-4a7a-b958-019594e10213",
   "metadata": {},
   "outputs": [
    {
     "data": {
      "text/plain": [
       "int"
      ]
     },
     "execution_count": 47,
     "metadata": {},
     "output_type": "execute_result"
    }
   ],
   "source": [
    "type(a)"
   ]
  },
  {
   "cell_type": "code",
   "execution_count": 49,
   "id": "3f7283d4-f43f-4807-93c6-2c47f67e1068",
   "metadata": {},
   "outputs": [
    {
     "data": {
      "text/plain": [
       "bool"
      ]
     },
     "execution_count": 49,
     "metadata": {},
     "output_type": "execute_result"
    }
   ],
   "source": [
    "type(1==0)"
   ]
  },
  {
   "cell_type": "markdown",
   "id": "34db6257-90b8-49bb-b70d-b462e9215119",
   "metadata": {},
   "source": [
    "## Chapter 2"
   ]
  },
  {
   "cell_type": "code",
   "execution_count": 50,
   "id": "03a3ab90-84d6-4460-9cbf-35ac0ea71ad4",
   "metadata": {},
   "outputs": [],
   "source": [
    "Name=\"Gokulakrishnan\""
   ]
  },
  {
   "cell_type": "code",
   "execution_count": 51,
   "id": "3b585e76-ff40-4464-b190-7b1a90bd2a2d",
   "metadata": {},
   "outputs": [
    {
     "data": {
      "text/plain": [
       "'Gokulakrishnan'"
      ]
     },
     "execution_count": 51,
     "metadata": {},
     "output_type": "execute_result"
    }
   ],
   "source": [
    "Name"
   ]
  },
  {
   "cell_type": "code",
   "execution_count": null,
   "id": "aac4bd24-f1dc-43d1-9d2c-6a5da6ac793a",
   "metadata": {},
   "outputs": [],
   "source": [
    "01234569891011121314 #Positive indexing"
   ]
  },
  {
   "cell_type": "markdown",
   "id": "1b4c03ae-5b36-449e-a963-3861c8270b1f",
   "metadata": {},
   "source": [
    "## Slicing Operation"
   ]
  },
  {
   "cell_type": "code",
   "execution_count": 52,
   "id": "b652243c-c0a6-45cb-ba02-e3f4b3938c6d",
   "metadata": {},
   "outputs": [
    {
     "data": {
      "text/plain": [
       "'G'"
      ]
     },
     "execution_count": 52,
     "metadata": {},
     "output_type": "execute_result"
    }
   ],
   "source": [
    "Name[0]"
   ]
  },
  {
   "cell_type": "code",
   "execution_count": 53,
   "id": "b5a5df6f-87fb-4d6f-a55c-9180f5c16fed",
   "metadata": {},
   "outputs": [
    {
     "data": {
      "text/plain": [
       "'h'"
      ]
     },
     "execution_count": 53,
     "metadata": {},
     "output_type": "execute_result"
    }
   ],
   "source": [
    "Name[10]"
   ]
  },
  {
   "cell_type": "code",
   "execution_count": 54,
   "id": "88cfec4a-50b3-4532-a5f4-9d3838691e78",
   "metadata": {},
   "outputs": [
    {
     "data": {
      "text/plain": [
       "'s'"
      ]
     },
     "execution_count": 54,
     "metadata": {},
     "output_type": "execute_result"
    }
   ],
   "source": [
    "Name[-5]"
   ]
  },
  {
   "cell_type": "code",
   "execution_count": null,
   "id": "1a30ab00-fd0b-449f-ae22-7fd448403578",
   "metadata": {},
   "outputs": [],
   "source": [
    "-14-13-12-11-10-9-8-7-6-5-4-3-2-1  #Negative Indexing - It starts with reverse mode counting. "
   ]
  },
  {
   "cell_type": "code",
   "execution_count": 58,
   "id": "476e6d2a-6801-4e22-9079-15a32c112686",
   "metadata": {},
   "outputs": [
    {
     "data": {
      "text/plain": [
       "'Gokul'"
      ]
     },
     "execution_count": 58,
     "metadata": {},
     "output_type": "execute_result"
    }
   ],
   "source": [
    "Name[0:5]"
   ]
  },
  {
   "cell_type": "code",
   "execution_count": 60,
   "id": "ebe88f51-df81-404f-b9ed-7cf83d651730",
   "metadata": {},
   "outputs": [
    {
     "data": {
      "text/plain": [
       "'krishnan'"
      ]
     },
     "execution_count": 60,
     "metadata": {},
     "output_type": "execute_result"
    }
   ],
   "source": [
    "Name[6:15]"
   ]
  },
  {
   "cell_type": "code",
   "execution_count": 61,
   "id": "f40b9124-1754-4aec-aab1-c56e339f4449",
   "metadata": {},
   "outputs": [
    {
     "ename": "IndexError",
     "evalue": "string index out of range",
     "output_type": "error",
     "traceback": [
      "\u001b[1;31m---------------------------------------------------------------------------\u001b[0m",
      "\u001b[1;31mIndexError\u001b[0m                                Traceback (most recent call last)",
      "Cell \u001b[1;32mIn[61], line 1\u001b[0m\n\u001b[1;32m----> 1\u001b[0m \u001b[43mName\u001b[49m\u001b[43m[\u001b[49m\u001b[38;5;241;43m16\u001b[39;49m\u001b[43m]\u001b[49m\n",
      "\u001b[1;31mIndexError\u001b[0m: string index out of range"
     ]
    }
   ],
   "source": [
    "Name[16] #Out of range"
   ]
  },
  {
   "cell_type": "markdown",
   "id": "39932bcc-388b-4956-84da-2f3ca39808e4",
   "metadata": {},
   "source": [
    "## Concatination"
   ]
  },
  {
   "cell_type": "code",
   "execution_count": 73,
   "id": "4168dddd-0dcb-4860-acb7-d47a4da278cb",
   "metadata": {},
   "outputs": [],
   "source": [
    "Name=\"Gokula Krishnan\""
   ]
  },
  {
   "cell_type": "code",
   "execution_count": 74,
   "id": "410ffe3c-771c-460a-9b13-0f8ea9b73479",
   "metadata": {},
   "outputs": [],
   "source": [
    "First_Name=\"Gokula\""
   ]
  },
  {
   "cell_type": "code",
   "execution_count": 75,
   "id": "6e135290-5edd-449c-a091-7ca7acb2e6f2",
   "metadata": {},
   "outputs": [],
   "source": [
    "Last_Name=\"Krishnan\""
   ]
  },
  {
   "cell_type": "code",
   "execution_count": 1,
   "id": "a429a81d-a304-4605-be41-b4ab5928ba78",
   "metadata": {},
   "outputs": [
    {
     "ename": "NameError",
     "evalue": "name 'First_Name' is not defined",
     "output_type": "error",
     "traceback": [
      "\u001b[1;31m---------------------------------------------------------------------------\u001b[0m",
      "\u001b[1;31mNameError\u001b[0m                                 Traceback (most recent call last)",
      "Cell \u001b[1;32mIn[1], line 1\u001b[0m\n\u001b[1;32m----> 1\u001b[0m Full_Name\u001b[38;5;241m=\u001b[39m\u001b[43mFirst_Name\u001b[49m \u001b[38;5;241m+\u001b[39m Last_Name\n",
      "\u001b[1;31mNameError\u001b[0m: name 'First_Name' is not defined"
     ]
    }
   ],
   "source": [
    "Full_Name=First_Name + Last_Name"
   ]
  },
  {
   "cell_type": "raw",
   "id": "90cdaeb5-f272-4036-8817-346d5e3647cd",
   "metadata": {},
   "source": [
    "Full_Name"
   ]
  },
  {
   "cell_type": "markdown",
   "id": "ebbf8973-2454-4f28-9fac-a0ae6437550b",
   "metadata": {},
   "source": [
    "## String Methods"
   ]
  },
  {
   "cell_type": "code",
   "execution_count": 80,
   "id": "4c7a0547-151c-4492-8f1b-eae710aa0820",
   "metadata": {},
   "outputs": [
    {
     "data": {
      "text/plain": [
       "'gokulakrishnan'"
      ]
     },
     "execution_count": 80,
     "metadata": {},
     "output_type": "execute_result"
    }
   ],
   "source": [
    "Full_Name.lower() # Converting all the strings into smaller"
   ]
  },
  {
   "cell_type": "code",
   "execution_count": 85,
   "id": "d5cb9ddd-2f74-4df5-a077-a8d3e7fd4d99",
   "metadata": {},
   "outputs": [
    {
     "data": {
      "text/plain": [
       "'gokulakrishnan'"
      ]
     },
     "execution_count": 85,
     "metadata": {},
     "output_type": "execute_result"
    }
   ],
   "source": [
    "Full_Name"
   ]
  },
  {
   "cell_type": "code",
   "execution_count": 86,
   "id": "98e5db53-8c9d-4857-bef0-1032dc4f796f",
   "metadata": {},
   "outputs": [
    {
     "data": {
      "text/plain": [
       "'GOKULAKRISHNAN'"
      ]
     },
     "execution_count": 86,
     "metadata": {},
     "output_type": "execute_result"
    }
   ],
   "source": [
    "Full_Name.upper()"
   ]
  },
  {
   "cell_type": "code",
   "execution_count": 87,
   "id": "81955acf-c522-4e2c-a9cd-333c4877d064",
   "metadata": {},
   "outputs": [
    {
     "data": {
      "text/plain": [
       "'Gokulakrishnan'"
      ]
     },
     "execution_count": 87,
     "metadata": {},
     "output_type": "execute_result"
    }
   ],
   "source": [
    "Full_Name.capitalize()"
   ]
  },
  {
   "cell_type": "code",
   "execution_count": null,
   "id": "c9301720-ede6-44ce-a82e-ebee405bc643",
   "metadata": {},
   "outputs": [],
   "source": [
    "---------------------------------------------------"
   ]
  },
  {
   "cell_type": "markdown",
   "id": "21ddd2e2-744d-41b0-a832-8c237c52ddf4",
   "metadata": {},
   "source": [
    "## Task1"
   ]
  },
  {
   "cell_type": "code",
   "execution_count": null,
   "id": "bd0c7980-afe8-433a-ab64-e02b974f01de",
   "metadata": {},
   "outputs": [],
   "source": [
    "\"Possible way to add strings\""
   ]
  },
  {
   "cell_type": "markdown",
   "id": "7fbcab14-fbc6-4b01-b4c5-2b4f9e3aa5ee",
   "metadata": {},
   "source": [
    "## Task2"
   ]
  },
  {
   "cell_type": "code",
   "execution_count": null,
   "id": "75cdebbb-b1c5-4feb-b1b3-76e9124a0f50",
   "metadata": {},
   "outputs": [],
   "source": [
    "\"Few String Methods with example, Why and Where\""
   ]
  },
  {
   "cell_type": "code",
   "execution_count": null,
   "id": "b7976528-8701-4201-a707-f269ea4d89b9",
   "metadata": {},
   "outputs": [],
   "source": [
    "---------------------------------------------------"
   ]
  },
  {
   "cell_type": "markdown",
   "id": "0f79b842-dbbb-498e-90cb-7394c4f13826",
   "metadata": {},
   "source": [
    "## Typecasting   # Converting one data type into another data type"
   ]
  },
  {
   "cell_type": "code",
   "execution_count": null,
   "id": "0a56fbb1-d4c6-497c-b36b-52211aa2b3b8",
   "metadata": {},
   "outputs": [],
   "source": [
    "Implicit and Explicit"
   ]
  },
  {
   "cell_type": "code",
   "execution_count": null,
   "id": "658bc891-22bf-4e69-96fa-3115011cb94c",
   "metadata": {},
   "outputs": [],
   "source": [
    "Implicit = Lower data type to Higher data type"
   ]
  },
  {
   "cell_type": "code",
   "execution_count": null,
   "id": "314e6338-04d4-4b64-aa01-8c1370239ea0",
   "metadata": {},
   "outputs": [],
   "source": [
    "Explicit = Higher data type to Lower data type"
   ]
  },
  {
   "cell_type": "code",
   "execution_count": null,
   "id": "385684c8-3ba8-4a9a-b675-27d084347a5b",
   "metadata": {},
   "outputs": [],
   "source": [
    "---------------------------------- \"Chapter 1 and 2 completed here\"-----------------------------------"
   ]
  },
  {
   "cell_type": "markdown",
   "id": "56f96f33-a5b0-489e-a5bb-fff0ce78067d",
   "metadata": {},
   "source": [
    "                                                    TASK -1 - \"Any other possible way to add strings\""
   ]
  },
  {
   "cell_type": "code",
   "execution_count": 15,
   "id": "4e5c5ab9-be4d-435a-ac5d-d0193f4ea482",
   "metadata": {},
   "outputs": [],
   "source": [
    "string1 = \"Hello\""
   ]
  },
  {
   "cell_type": "code",
   "execution_count": 18,
   "id": "7c4dc74d-fce5-495b-a403-c47260ffce60",
   "metadata": {},
   "outputs": [],
   "source": [
    "string2 = \"World\""
   ]
  },
  {
   "cell_type": "code",
   "execution_count": 19,
   "id": "6411f590-a7f5-450e-976d-2752abcc7c23",
   "metadata": {},
   "outputs": [],
   "source": [
    "result = string1 + \" \" + string2"
   ]
  },
  {
   "cell_type": "code",
   "execution_count": 20,
   "id": "06395053-0432-45ef-aab7-92012333e294",
   "metadata": {},
   "outputs": [
    {
     "name": "stdout",
     "output_type": "stream",
     "text": [
      "Hello World\n"
     ]
    }
   ],
   "source": [
    "print(result)"
   ]
  },
  {
   "cell_type": "code",
   "execution_count": 21,
   "id": "9ca29360-312d-4b2b-a6d5-1a5d3a881143",
   "metadata": {},
   "outputs": [],
   "source": [
    "A1 = \"Data\""
   ]
  },
  {
   "cell_type": "code",
   "execution_count": 22,
   "id": "a99c7f3c-7646-48a3-ba98-01f1637449ee",
   "metadata": {},
   "outputs": [],
   "source": [
    "A2 = \"Science\""
   ]
  },
  {
   "cell_type": "code",
   "execution_count": 29,
   "id": "eec04a90-4c9b-4a8c-bd7e-f87960b27b86",
   "metadata": {},
   "outputs": [],
   "source": [
    "course = A1 + \" \" + A2"
   ]
  },
  {
   "cell_type": "code",
   "execution_count": 30,
   "id": "b23ade51-6b1e-46ef-b4ed-96ae57f67a43",
   "metadata": {},
   "outputs": [
    {
     "name": "stdout",
     "output_type": "stream",
     "text": [
      "Data Science\n"
     ]
    }
   ],
   "source": [
    "print(course)"
   ]
  },
  {
   "cell_type": "code",
   "execution_count": 31,
   "id": "e8826b2f-e706-4eb3-b236-ac7527dfcce3",
   "metadata": {},
   "outputs": [],
   "source": [
    "A1 = \"Data\""
   ]
  },
  {
   "cell_type": "code",
   "execution_count": 32,
   "id": "80c6d4f7-ea20-4d62-93b9-dc9147a4a431",
   "metadata": {},
   "outputs": [],
   "source": [
    "A2 = \"Science\""
   ]
  },
  {
   "cell_type": "code",
   "execution_count": 34,
   "id": "74565be3-b18e-43f9-b06b-3800b2fadf49",
   "metadata": {},
   "outputs": [],
   "source": [
    "course = f\"{A1} {A2}\"  ## f - format and combine strings"
   ]
  },
  {
   "cell_type": "code",
   "execution_count": 35,
   "id": "b942be4a-5e48-4c46-9be1-20ca4442e053",
   "metadata": {},
   "outputs": [
    {
     "name": "stdout",
     "output_type": "stream",
     "text": [
      "Data Science\n"
     ]
    }
   ],
   "source": [
    "print(course)"
   ]
  },
  {
   "cell_type": "code",
   "execution_count": null,
   "id": "d67cbf56-b938-4100-9542-05e643ea9464",
   "metadata": {},
   "outputs": [],
   "source": [
    "                                                TASK -2- \"Few String Methods with example, Why and Where\""
   ]
  },
  {
   "cell_type": "code",
   "execution_count": 37,
   "id": "08b4cb12-09a6-4d81-aef8-954025eef1d9",
   "metadata": {},
   "outputs": [],
   "source": [
    "course = \"Data Science and AI is good to learn\""
   ]
  },
  {
   "cell_type": "code",
   "execution_count": 38,
   "id": "7e31359a-3fc0-49b5-af5d-dd25c22b7cea",
   "metadata": {},
   "outputs": [],
   "source": [
    "split = course.split()"
   ]
  },
  {
   "cell_type": "code",
   "execution_count": 39,
   "id": "dc3744da-8d04-494a-8caf-d77cc25e8c0e",
   "metadata": {},
   "outputs": [
    {
     "name": "stdout",
     "output_type": "stream",
     "text": [
      "['Data', 'Science', 'and', 'AI', 'is', 'good', 'to', 'learn']\n"
     ]
    }
   ],
   "source": [
    "print(split)"
   ]
  },
  {
   "cell_type": "code",
   "execution_count": null,
   "id": "86cb0fb9-5500-4da1-92a7-25940d86ed31",
   "metadata": {},
   "outputs": [],
   "source": []
  },
  {
   "cell_type": "code",
   "execution_count": 40,
   "id": "86b2c121-56e5-421d-b0f5-bc6cae5696ed",
   "metadata": {},
   "outputs": [],
   "source": [
    "Family = \"Very Important to everyone\""
   ]
  },
  {
   "cell_type": "code",
   "execution_count": 49,
   "id": "6b760e31-55e6-4041-bd22-e9cf38e673b4",
   "metadata": {},
   "outputs": [],
   "source": [
    "Boring = Family.upper()"
   ]
  },
  {
   "cell_type": "code",
   "execution_count": 50,
   "id": "e23b2bb4-9c0b-4c9b-b203-d19624416e5c",
   "metadata": {},
   "outputs": [
    {
     "name": "stdout",
     "output_type": "stream",
     "text": [
      "VERY IMPORTANT TO EVERYONE\n"
     ]
    }
   ],
   "source": [
    "print(Boring)"
   ]
  },
  {
   "cell_type": "code",
   "execution_count": null,
   "id": "b8a26588-cec6-4812-aa67-6d6cc7895a3a",
   "metadata": {},
   "outputs": [],
   "source": []
  },
  {
   "cell_type": "code",
   "execution_count": 51,
   "id": "baa7e8d4-f859-4ecf-8470-2224fcddc4d8",
   "metadata": {},
   "outputs": [],
   "source": [
    "X1 = \"Address\""
   ]
  },
  {
   "cell_type": "code",
   "execution_count": 52,
   "id": "880826c5-af79-41fe-950c-18bb06b259fe",
   "metadata": {},
   "outputs": [],
   "source": [
    "X2 = \"Name\""
   ]
  },
  {
   "cell_type": "code",
   "execution_count": 72,
   "id": "0abd7b5b-13be-4b14-95a3-72069af92347",
   "metadata": {},
   "outputs": [],
   "source": [
    "Z100 = {X1,X2}"
   ]
  },
  {
   "cell_type": "code",
   "execution_count": 73,
   "id": "85e75ac6-88e5-439e-b1cb-29f06654a646",
   "metadata": {},
   "outputs": [
    {
     "name": "stdout",
     "output_type": "stream",
     "text": [
      "{'Name', 'Address'}\n"
     ]
    }
   ],
   "source": [
    "print(Z100)"
   ]
  }
 ],
 "metadata": {
  "kernelspec": {
   "display_name": "Python 3 (ipykernel)",
   "language": "python",
   "name": "python3"
  },
  "language_info": {
   "codemirror_mode": {
    "name": "ipython",
    "version": 3
   },
   "file_extension": ".py",
   "mimetype": "text/x-python",
   "name": "python",
   "nbconvert_exporter": "python",
   "pygments_lexer": "ipython3",
   "version": "3.13.2"
  }
 },
 "nbformat": 4,
 "nbformat_minor": 5
}
