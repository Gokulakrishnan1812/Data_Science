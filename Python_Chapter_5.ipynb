{
 "cells": [
  {
   "cell_type": "markdown",
   "id": "e4dbf227-f3e8-4a71-8d51-5751a9d5c311",
   "metadata": {},
   "source": [
    "# Functions "
   ]
  },
  {
   "cell_type": "markdown",
   "id": "043527f6-eaaf-49dc-a7c5-2fa9621f58e2",
   "metadata": {},
   "source": [
    "# User defind function"
   ]
  },
  {
   "cell_type": "code",
   "execution_count": 3,
   "id": "cfdaccf6-56dc-4c05-87ac-8a0d3ffcd5a3",
   "metadata": {},
   "outputs": [],
   "source": [
    "def add ():\n",
    "   pass"
   ]
  },
  {
   "cell_type": "code",
   "execution_count": 5,
   "id": "13cca6a7-274a-41e9-af61-b8e86bb5fcbd",
   "metadata": {},
   "outputs": [],
   "source": [
    "def add(x,y):    ## Defining the function here, here (x,y) are arguments \n",
    "    sum=x+y      ## Writing the add logic\n",
    "    return sum   ## This is used to retrun the result in the \"calling function area\""
   ]
  },
  {
   "cell_type": "code",
   "execution_count": 6,
   "id": "deebcc5f-88fd-4eb3-84bf-8baf45ec114a",
   "metadata": {},
   "outputs": [
    {
     "data": {
      "text/plain": [
       "30"
      ]
     },
     "execution_count": 6,
     "metadata": {},
     "output_type": "execute_result"
    }
   ],
   "source": [
    "add(10,20)  ## calling the function here, Here (10,20) are parameters"
   ]
  },
  {
   "cell_type": "markdown",
   "id": "4f0a497c-735c-4d25-ad9a-93a1c4e2c1b3",
   "metadata": {},
   "source": [
    "# Task1 - User should enter the input for the above program..."
   ]
  },
  {
   "cell_type": "code",
   "execution_count": 23,
   "id": "8d630308-172c-43df-9988-a7f13dd7a7bd",
   "metadata": {},
   "outputs": [],
   "source": [
    "def add(x,y):    ## Defining the function here, here (x,y) are arguments \n",
    "    x = int(input(\"Enter the value of x\"))\n",
    "    y = int(input(\"Enter the value of y\"))\n",
    "    sum=x+y      ## Writing the add logic\n",
    "    return sum   ## This is used to retrun the result in the \"calling function area\""
   ]
  },
  {
   "cell_type": "code",
   "execution_count": 24,
   "id": "9e05162a-ef2f-498c-848a-8b2744b9d11c",
   "metadata": {},
   "outputs": [
    {
     "name": "stdin",
     "output_type": "stream",
     "text": [
      "Enter the value of x 10\n",
      "Enter the value of y 20\n"
     ]
    },
    {
     "data": {
      "text/plain": [
       "30"
      ]
     },
     "execution_count": 24,
     "metadata": {},
     "output_type": "execute_result"
    }
   ],
   "source": [
    "add(10,20)  ## calling the function here, Here (10,20) are parameters"
   ]
  },
  {
   "cell_type": "markdown",
   "id": "33b6e8b5-063a-4fa7-ac00-1ac1ec78edfd",
   "metadata": {},
   "source": [
    "## Arguments with example"
   ]
  },
  {
   "cell_type": "markdown",
   "id": "99d2818a-2c6f-430e-9741-3c4d873def3e",
   "metadata": {},
   "source": [
    "# Positional Arguments"
   ]
  },
  {
   "cell_type": "code",
   "execution_count": 33,
   "id": "dcc60ff3-3d24-4a20-b5e6-181a3fa05b7c",
   "metadata": {},
   "outputs": [],
   "source": [
    "def greet(name,age):\n",
    "    print(f\" Hi {name} you are {age} years old welcome to class\")"
   ]
  },
  {
   "cell_type": "code",
   "execution_count": 34,
   "id": "d5e86cfe-2af0-41a9-8888-215a87b0ad54",
   "metadata": {},
   "outputs": [
    {
     "name": "stdout",
     "output_type": "stream",
     "text": [
      " Hi Gokul you are 31 years old welcome to class\n"
     ]
    }
   ],
   "source": [
    "greet(\"Gokul\",31)    ## Always it will procced with the sequence "
   ]
  },
  {
   "cell_type": "code",
   "execution_count": 35,
   "id": "51871901-c950-4d78-a6dc-6debd86889ef",
   "metadata": {},
   "outputs": [
    {
     "name": "stdout",
     "output_type": "stream",
     "text": [
      " Hi 31 you are Gokul years old welcome to class\n"
     ]
    }
   ],
   "source": [
    "greet(31,\"Gokul\")   ## Always it will procced with the sequence, it will go with one by one,if you modify while calling it won't consider, it procced with def"
   ]
  },
  {
   "cell_type": "markdown",
   "id": "ed8bdd1e-d6f7-460c-adb6-c6aad8a63a37",
   "metadata": {},
   "source": [
    "# Key word Arguments"
   ]
  },
  {
   "cell_type": "code",
   "execution_count": 36,
   "id": "b2c8106c-030e-45d9-ab58-2e3a06223633",
   "metadata": {},
   "outputs": [
    {
     "name": "stdout",
     "output_type": "stream",
     "text": [
      " Hi gokul you are 10 years old welcome to class\n"
     ]
    }
   ],
   "source": [
    "greet(age=10,name=\"gokul\")"
   ]
  },
  {
   "cell_type": "code",
   "execution_count": 37,
   "id": "87648d43-15c2-4283-aa96-9bf55f538e76",
   "metadata": {},
   "outputs": [
    {
     "ename": "SyntaxError",
     "evalue": "positional argument follows keyword argument (3707644212.py, line 1)",
     "output_type": "error",
     "traceback": [
      "\u001b[1;36m  Cell \u001b[1;32mIn[37], line 1\u001b[1;36m\u001b[0m\n\u001b[1;33m    greet(name=\"Gokulkrish\",10)\u001b[0m\n\u001b[1;37m                              ^\u001b[0m\n\u001b[1;31mSyntaxError\u001b[0m\u001b[1;31m:\u001b[0m positional argument follows keyword argument\n"
     ]
    }
   ],
   "source": [
    "greet(name=\"Gokulkrish\",10)"
   ]
  },
  {
   "cell_type": "code",
   "execution_count": 38,
   "id": "c097efe9-9e01-4d34-b61b-858e005f8359",
   "metadata": {},
   "outputs": [
    {
     "name": "stdout",
     "output_type": "stream",
     "text": [
      " Hi Aswini you are 10 years old welcome to class\n"
     ]
    }
   ],
   "source": [
    "greet(\"Aswini\",age=10)"
   ]
  },
  {
   "cell_type": "markdown",
   "id": "3f35940f-a882-4267-a24f-91f874f87208",
   "metadata": {},
   "source": [
    "# Default arguments"
   ]
  },
  {
   "cell_type": "code",
   "execution_count": 48,
   "id": "2675a3ad-fd92-4795-8295-970e9024da0e",
   "metadata": {},
   "outputs": [],
   "source": [
    "def greet(name,age,City=\"Chennai\"):\n",
    "    print(f\" Hi {name} you are {age} years old welcome to class your city is {City}\")"
   ]
  },
  {
   "cell_type": "code",
   "execution_count": 49,
   "id": "529f07ad-5889-4ef6-af86-45bd6e96133a",
   "metadata": {},
   "outputs": [
    {
     "name": "stdout",
     "output_type": "stream",
     "text": [
      " Hi Gokul you are 10 years old welcome to class your city is Chennai\n"
     ]
    }
   ],
   "source": [
    "greet(\"Gokul\",10)"
   ]
  },
  {
   "cell_type": "code",
   "execution_count": 50,
   "id": "32ddf0ca-76c5-4699-a540-71eefb047e1d",
   "metadata": {},
   "outputs": [
    {
     "name": "stdout",
     "output_type": "stream",
     "text": [
      " Hi Gokul you are 10 years old welcome to class your city is Goa\n"
     ]
    }
   ],
   "source": [
    "greet(\"Gokul\",10,\"Goa\")"
   ]
  },
  {
   "cell_type": "code",
   "execution_count": 51,
   "id": "997ab6c2-5ee4-420a-b36e-6ff9bf0df962",
   "metadata": {},
   "outputs": [
    {
     "name": "stdout",
     "output_type": "stream",
     "text": [
      "Collecting scikit-learn\n",
      "  Downloading scikit_learn-1.6.1-cp313-cp313-win_amd64.whl.metadata (15 kB)\n",
      "Collecting numpy>=1.19.5 (from scikit-learn)\n",
      "  Downloading numpy-2.2.3-cp313-cp313-win_amd64.whl.metadata (60 kB)\n",
      "Collecting scipy>=1.6.0 (from scikit-learn)\n",
      "  Downloading scipy-1.15.2-cp313-cp313-win_amd64.whl.metadata (60 kB)\n",
      "Collecting joblib>=1.2.0 (from scikit-learn)\n",
      "  Downloading joblib-1.4.2-py3-none-any.whl.metadata (5.4 kB)\n",
      "Collecting threadpoolctl>=3.1.0 (from scikit-learn)\n",
      "  Downloading threadpoolctl-3.5.0-py3-none-any.whl.metadata (13 kB)\n",
      "Downloading scikit_learn-1.6.1-cp313-cp313-win_amd64.whl (11.1 MB)\n",
      "   ---------------------------------------- 0.0/11.1 MB ? eta -:--:--\n",
      "   ------ --------------------------------- 1.8/11.1 MB 9.6 MB/s eta 0:00:01\n",
      "   ----------------- ---------------------- 4.7/11.1 MB 11.7 MB/s eta 0:00:01\n",
      "   ------------------------- -------------- 7.1/11.1 MB 11.8 MB/s eta 0:00:01\n",
      "   ----------------------------------- ---- 9.7/11.1 MB 11.6 MB/s eta 0:00:01\n",
      "   ---------------------------------------- 11.1/11.1 MB 10.5 MB/s eta 0:00:00\n",
      "Downloading joblib-1.4.2-py3-none-any.whl (301 kB)\n",
      "Downloading numpy-2.2.3-cp313-cp313-win_amd64.whl (12.6 MB)\n",
      "   ---------------------------------------- 0.0/12.6 MB ? eta -:--:--\n",
      "   ------- -------------------------------- 2.4/12.6 MB 11.6 MB/s eta 0:00:01\n",
      "   ------------- -------------------------- 4.2/12.6 MB 9.6 MB/s eta 0:00:01\n",
      "   ------------------- -------------------- 6.0/12.6 MB 9.2 MB/s eta 0:00:01\n",
      "   ------------------------ --------------- 7.9/12.6 MB 9.2 MB/s eta 0:00:01\n",
      "   ------------------------------ --------- 9.7/12.6 MB 9.2 MB/s eta 0:00:01\n",
      "   -------------------------------------- - 12.1/12.6 MB 9.3 MB/s eta 0:00:01\n",
      "   ---------------------------------------  12.6/12.6 MB 9.4 MB/s eta 0:00:01\n",
      "   ---------------------------------------- 12.6/12.6 MB 8.2 MB/s eta 0:00:00\n",
      "Downloading scipy-1.15.2-cp313-cp313-win_amd64.whl (41.0 MB)\n",
      "   ---------------------------------------- 0.0/41.0 MB ? eta -:--:--\n",
      "   - -------------------------------------- 1.3/41.0 MB 5.9 MB/s eta 0:00:07\n",
      "   -- ------------------------------------- 2.6/41.0 MB 6.5 MB/s eta 0:00:06\n",
      "   -- ------------------------------------- 2.9/41.0 MB 6.2 MB/s eta 0:00:07\n",
      "   --- ------------------------------------ 3.4/41.0 MB 4.3 MB/s eta 0:00:09\n",
      "   ---- ----------------------------------- 4.7/41.0 MB 4.4 MB/s eta 0:00:09\n",
      "   ------ --------------------------------- 6.6/41.0 MB 5.1 MB/s eta 0:00:07\n",
      "   ------- -------------------------------- 8.1/41.0 MB 5.4 MB/s eta 0:00:07\n",
      "   -------- ------------------------------- 9.2/41.0 MB 5.4 MB/s eta 0:00:06\n",
      "   --------- ------------------------------ 10.2/41.0 MB 5.4 MB/s eta 0:00:06\n",
      "   ---------- ----------------------------- 11.0/41.0 MB 5.1 MB/s eta 0:00:06\n",
      "   ----------- ---------------------------- 11.5/41.0 MB 5.0 MB/s eta 0:00:06\n",
      "   ------------ --------------------------- 12.3/41.0 MB 4.8 MB/s eta 0:00:06\n",
      "   ------------ --------------------------- 13.1/41.0 MB 4.7 MB/s eta 0:00:06\n",
      "   ------------- -------------------------- 13.9/41.0 MB 4.6 MB/s eta 0:00:06\n",
      "   -------------- ------------------------- 14.4/41.0 MB 4.5 MB/s eta 0:00:06\n",
      "   -------------- ------------------------- 14.9/41.0 MB 4.4 MB/s eta 0:00:06\n",
      "   --------------- ------------------------ 15.5/41.0 MB 4.2 MB/s eta 0:00:07\n",
      "   --------------- ------------------------ 16.0/41.0 MB 4.1 MB/s eta 0:00:07\n",
      "   ---------------- ----------------------- 16.5/41.0 MB 4.0 MB/s eta 0:00:07\n",
      "   ---------------- ----------------------- 16.8/41.0 MB 4.0 MB/s eta 0:00:07\n",
      "   ---------------- ----------------------- 17.3/41.0 MB 3.8 MB/s eta 0:00:07\n",
      "   ----------------- ---------------------- 17.6/41.0 MB 3.7 MB/s eta 0:00:07\n",
      "   ----------------- ---------------------- 18.1/41.0 MB 3.7 MB/s eta 0:00:07\n",
      "   ------------------ --------------------- 18.9/41.0 MB 3.7 MB/s eta 0:00:06\n",
      "   ------------------ --------------------- 19.4/41.0 MB 3.6 MB/s eta 0:00:06\n",
      "   ------------------- -------------------- 19.9/41.0 MB 3.6 MB/s eta 0:00:06\n",
      "   ------------------- -------------------- 20.4/41.0 MB 3.5 MB/s eta 0:00:06\n",
      "   -------------------- ------------------- 21.2/41.0 MB 3.5 MB/s eta 0:00:06\n",
      "   -------------------- ------------------- 21.5/41.0 MB 3.5 MB/s eta 0:00:06\n",
      "   --------------------- ------------------ 22.0/41.0 MB 3.4 MB/s eta 0:00:06\n",
      "   ---------------------- ----------------- 22.8/41.0 MB 3.4 MB/s eta 0:00:06\n",
      "   ---------------------- ----------------- 23.3/41.0 MB 3.4 MB/s eta 0:00:06\n",
      "   ----------------------- ---------------- 23.9/41.0 MB 3.4 MB/s eta 0:00:06\n",
      "   ----------------------- ---------------- 24.1/41.0 MB 3.3 MB/s eta 0:00:06\n",
      "   ----------------------- ---------------- 24.4/41.0 MB 3.3 MB/s eta 0:00:06\n",
      "   ------------------------ --------------- 24.6/41.0 MB 3.2 MB/s eta 0:00:06\n",
      "   ------------------------ --------------- 24.9/41.0 MB 3.2 MB/s eta 0:00:06\n",
      "   ------------------------ --------------- 25.4/41.0 MB 3.1 MB/s eta 0:00:05\n",
      "   ------------------------- -------------- 26.0/41.0 MB 3.1 MB/s eta 0:00:05\n",
      "   ------------------------- -------------- 26.2/41.0 MB 3.0 MB/s eta 0:00:05\n",
      "   ------------------------- -------------- 26.2/41.0 MB 3.0 MB/s eta 0:00:05\n",
      "   ------------------------- -------------- 26.5/41.0 MB 3.0 MB/s eta 0:00:05\n",
      "   -------------------------- ------------- 26.7/41.0 MB 2.9 MB/s eta 0:00:05\n",
      "   -------------------------- ------------- 27.0/41.0 MB 2.9 MB/s eta 0:00:05\n",
      "   -------------------------- ------------- 27.0/41.0 MB 2.9 MB/s eta 0:00:05\n",
      "   -------------------------- ------------- 27.3/41.0 MB 2.8 MB/s eta 0:00:05\n",
      "   -------------------------- ------------- 27.5/41.0 MB 2.7 MB/s eta 0:00:05\n",
      "   --------------------------- ------------ 27.8/41.0 MB 2.7 MB/s eta 0:00:05\n",
      "   --------------------------- ------------ 28.0/41.0 MB 2.7 MB/s eta 0:00:05\n",
      "   --------------------------- ------------ 28.3/41.0 MB 2.6 MB/s eta 0:00:05\n",
      "   ---------------------------- ----------- 28.8/41.0 MB 2.6 MB/s eta 0:00:05\n",
      "   ---------------------------- ----------- 29.4/41.0 MB 2.6 MB/s eta 0:00:05\n",
      "   ----------------------------- ---------- 29.9/41.0 MB 2.6 MB/s eta 0:00:05\n",
      "   ----------------------------- ---------- 30.4/41.0 MB 2.6 MB/s eta 0:00:05\n",
      "   ------------------------------ --------- 30.9/41.0 MB 2.6 MB/s eta 0:00:04\n",
      "   ------------------------------ --------- 30.9/41.0 MB 2.6 MB/s eta 0:00:04\n",
      "   ------------------------------ --------- 31.2/41.0 MB 2.5 MB/s eta 0:00:04\n",
      "   ------------------------------ --------- 31.5/41.0 MB 2.5 MB/s eta 0:00:04\n",
      "   ------------------------------ --------- 31.7/41.0 MB 2.5 MB/s eta 0:00:04\n",
      "   ------------------------------- -------- 32.2/41.0 MB 2.5 MB/s eta 0:00:04\n",
      "   ------------------------------- -------- 32.8/41.0 MB 2.5 MB/s eta 0:00:04\n",
      "   -------------------------------- ------- 33.3/41.0 MB 2.5 MB/s eta 0:00:04\n",
      "   --------------------------------- ------ 33.8/41.0 MB 2.5 MB/s eta 0:00:03\n",
      "   --------------------------------- ------ 34.6/41.0 MB 2.5 MB/s eta 0:00:03\n",
      "   ---------------------------------- ----- 35.4/41.0 MB 2.5 MB/s eta 0:00:03\n",
      "   ---------------------------------- ----- 35.7/41.0 MB 2.5 MB/s eta 0:00:03\n",
      "   ----------------------------------- ---- 36.2/41.0 MB 2.5 MB/s eta 0:00:02\n",
      "   ----------------------------------- ---- 36.4/41.0 MB 2.5 MB/s eta 0:00:02\n",
      "   ------------------------------------ --- 37.0/41.0 MB 2.5 MB/s eta 0:00:02\n",
      "   ------------------------------------ --- 37.5/41.0 MB 2.5 MB/s eta 0:00:02\n",
      "   ------------------------------------- -- 38.0/41.0 MB 2.5 MB/s eta 0:00:02\n",
      "   ------------------------------------- -- 38.5/41.0 MB 2.5 MB/s eta 0:00:01\n",
      "   -------------------------------------- - 39.3/41.0 MB 2.5 MB/s eta 0:00:01\n",
      "   ---------------------------------------  40.1/41.0 MB 2.5 MB/s eta 0:00:01\n",
      "   ---------------------------------------  40.9/41.0 MB 2.5 MB/s eta 0:00:01\n",
      "   ---------------------------------------  40.9/41.0 MB 2.5 MB/s eta 0:00:01\n",
      "   ---------------------------------------- 41.0/41.0 MB 2.5 MB/s eta 0:00:00\n",
      "Downloading threadpoolctl-3.5.0-py3-none-any.whl (18 kB)\n",
      "Installing collected packages: threadpoolctl, numpy, joblib, scipy, scikit-learn\n",
      "Successfully installed joblib-1.4.2 numpy-2.2.3 scikit-learn-1.6.1 scipy-1.15.2 threadpoolctl-3.5.0\n",
      "Note: you may need to restart the kernel to use updated packages.\n"
     ]
    },
    {
     "name": "stderr",
     "output_type": "stream",
     "text": [
      "\n",
      "[notice] A new release of pip is available: 24.3.1 -> 25.0.1\n",
      "[notice] To update, run: python.exe -m pip install --upgrade pip\n"
     ]
    }
   ],
   "source": [
    "pip install -U scikit-learn"
   ]
  },
  {
   "cell_type": "code",
   "execution_count": 52,
   "id": "c96f5de1-bbf5-4396-b255-24187a4ae2d8",
   "metadata": {},
   "outputs": [],
   "source": [
    "from sklearn.ensemble import RandomForestClassifier"
   ]
  },
  {
   "cell_type": "markdown",
   "id": "94dd474b-f218-473c-8dac-ed0bb29048f0",
   "metadata": {},
   "source": [
    " # Advanced data type"
   ]
  },
  {
   "cell_type": "markdown",
   "id": "e9111714-b008-4dca-b925-861c84f1af6e",
   "metadata": {},
   "source": [
    "# List"
   ]
  },
  {
   "cell_type": "code",
   "execution_count": 53,
   "id": "f3389f5a-4c95-4b94-aae6-ab1e4912880f",
   "metadata": {},
   "outputs": [],
   "source": [
    "lst=[10,20,30,40,50]     ## method 1"
   ]
  },
  {
   "cell_type": "code",
   "execution_count": 54,
   "id": "27657105-5d92-4f47-9221-7441b7551e3a",
   "metadata": {},
   "outputs": [
    {
     "data": {
      "text/plain": [
       "list"
      ]
     },
     "execution_count": 54,
     "metadata": {},
     "output_type": "execute_result"
    }
   ],
   "source": [
    "type (lst)"
   ]
  },
  {
   "cell_type": "code",
   "execution_count": 55,
   "id": "7dbd21b9-89a2-4481-a5b1-fdfb2d1db032",
   "metadata": {},
   "outputs": [],
   "source": [
    "lst_1=list(range(0,10))   ## method 2"
   ]
  },
  {
   "cell_type": "code",
   "execution_count": 56,
   "id": "65c4d4b9-731a-4a5a-9f7a-9b8f2348d09d",
   "metadata": {},
   "outputs": [
    {
     "data": {
      "text/plain": [
       "[0, 1, 2, 3, 4, 5, 6, 7, 8, 9]"
      ]
     },
     "execution_count": 56,
     "metadata": {},
     "output_type": "execute_result"
    }
   ],
   "source": [
    "lst_1"
   ]
  },
  {
   "cell_type": "code",
   "execution_count": 60,
   "id": "a070a7e1-a856-41d3-a01a-45a9972cbbb7",
   "metadata": {},
   "outputs": [
    {
     "data": {
      "text/plain": [
       "[10, 20, 30, 'abc', 'xyz', 10.25]"
      ]
     },
     "execution_count": 60,
     "metadata": {},
     "output_type": "execute_result"
    }
   ],
   "source": [
    "lst=[10,20,30,\"abc\",\"xyz\",10.25]   ## List with multiple data type\n",
    "lst"
   ]
  },
  {
   "cell_type": "code",
   "execution_count": 61,
   "id": "d9824dfd-04d4-4ba3-8054-3411868b10e5",
   "metadata": {},
   "outputs": [
    {
     "data": {
      "text/plain": [
       "[10, 20, 30, 'abc', 'xyz', 10.25, [10, 25, 85, 45]]"
      ]
     },
     "execution_count": 61,
     "metadata": {},
     "output_type": "execute_result"
    }
   ],
   "source": [
    "lst=[10,20,30,\"abc\",\"xyz\",10.25,[10,25,85,45]]   ## List with multiple list\n",
    "lst"
   ]
  },
  {
   "cell_type": "code",
   "execution_count": 62,
   "id": "6897e0ee-0133-4a00-9938-fb0362ae16fa",
   "metadata": {},
   "outputs": [
    {
     "data": {
      "text/plain": [
       "6"
      ]
     },
     "execution_count": 62,
     "metadata": {},
     "output_type": "execute_result"
    }
   ],
   "source": [
    "lst_1 [6]     ## Indexing and finding the value"
   ]
  },
  {
   "cell_type": "code",
   "execution_count": 63,
   "id": "5b58d884-950d-4951-a44f-5e56f192ece3",
   "metadata": {},
   "outputs": [
    {
     "data": {
      "text/plain": [
       "'abc'"
      ]
     },
     "execution_count": 63,
     "metadata": {},
     "output_type": "execute_result"
    }
   ],
   "source": [
    "lst [3]       ## Indexing and finding the value"
   ]
  },
  {
   "cell_type": "code",
   "execution_count": 70,
   "id": "af73caa8-8fc7-46d4-be31-6d9a90eff259",
   "metadata": {},
   "outputs": [
    {
     "data": {
      "text/plain": [
       "[10, 25, 85, 45]"
      ]
     },
     "execution_count": 70,
     "metadata": {},
     "output_type": "execute_result"
    }
   ],
   "source": [
    "lst [6]           ## Indexing and finding the value from multiple list (Outer index[6])"
   ]
  },
  {
   "cell_type": "code",
   "execution_count": 71,
   "id": "d412845b-c609-4987-a9c1-ce23dcd8593c",
   "metadata": {},
   "outputs": [
    {
     "data": {
      "text/plain": [
       "25"
      ]
     },
     "execution_count": 71,
     "metadata": {},
     "output_type": "execute_result"
    }
   ],
   "source": [
    "lst [6] [1]       ## Indexing and finding the value from multiple list (Inner index[1])"
   ]
  },
  {
   "cell_type": "code",
   "execution_count": 72,
   "id": "1eb96d22-9d61-48bb-975b-ed8137af6406",
   "metadata": {},
   "outputs": [
    {
     "data": {
      "text/plain": [
       "[10, 20, 30, 'abc', 'xyz', 10.25, [10, 25, 85, 45], 50, 80, 'Gokul']"
      ]
     },
     "execution_count": 72,
     "metadata": {},
     "output_type": "execute_result"
    }
   ],
   "source": [
    "lst=[10,20,30,\"abc\",\"xyz\",10.25,[10,25,85,45],50,80,(\"Gokul\")]   \n",
    "lst"
   ]
  },
  {
   "cell_type": "code",
   "execution_count": 74,
   "id": "bedefdef-a727-45b6-8efe-edb0102022d7",
   "metadata": {},
   "outputs": [
    {
     "data": {
      "text/plain": [
       "'Gokul'"
      ]
     },
     "execution_count": 74,
     "metadata": {},
     "output_type": "execute_result"
    }
   ],
   "source": [
    "lst [9]"
   ]
  },
  {
   "cell_type": "code",
   "execution_count": 75,
   "id": "5da0598c-bcaf-4ae2-8983-2fc957d5c88a",
   "metadata": {},
   "outputs": [
    {
     "data": {
      "text/plain": [
       "[10, 20, 30, 'abc', 'xyz', 10.25, [10, 25, 85, 45], 50, 80, ('Gokul', 100)]"
      ]
     },
     "execution_count": 75,
     "metadata": {},
     "output_type": "execute_result"
    }
   ],
   "source": [
    "lst=[10,20,30,\"abc\",\"xyz\",10.25,[10,25,85,45],50,80,(\"Gokul\",100)]   \n",
    "lst"
   ]
  },
  {
   "cell_type": "code",
   "execution_count": 77,
   "id": "9a2192c9-f184-4070-851c-cde5add095cd",
   "metadata": {},
   "outputs": [
    {
     "data": {
      "text/plain": [
       "'Gokul'"
      ]
     },
     "execution_count": 77,
     "metadata": {},
     "output_type": "execute_result"
    }
   ],
   "source": [
    "lst [9] [0]"
   ]
  },
  {
   "cell_type": "code",
   "execution_count": 81,
   "id": "c70648d7-6d65-406f-b921-81b2dc54214a",
   "metadata": {},
   "outputs": [],
   "source": [
    "lst.append(\"Apple\")    ## Adds the elements at the end of the list"
   ]
  },
  {
   "cell_type": "code",
   "execution_count": 82,
   "id": "68896c11-9e3e-49ad-917d-84147abe670e",
   "metadata": {},
   "outputs": [
    {
     "data": {
      "text/plain": [
       "[10,\n",
       " 20,\n",
       " 30,\n",
       " 'abc',\n",
       " 'xyz',\n",
       " 10.25,\n",
       " [10, 25, 85, 45],\n",
       " 50,\n",
       " 80,\n",
       " ('Gokul', 100),\n",
       " 'Apple',\n",
       " 'Apple',\n",
       " 'Apple']"
      ]
     },
     "execution_count": 82,
     "metadata": {},
     "output_type": "execute_result"
    }
   ],
   "source": [
    "lst"
   ]
  },
  {
   "cell_type": "code",
   "execution_count": 84,
   "id": "84ea6b8a-dc5d-4790-ac32-519e65017719",
   "metadata": {},
   "outputs": [],
   "source": [
    "lst.insert(1,200)"
   ]
  },
  {
   "cell_type": "code",
   "execution_count": 85,
   "id": "41b340f9-ed90-4b85-977d-8fd5871ba552",
   "metadata": {},
   "outputs": [
    {
     "data": {
      "text/plain": [
       "[10,\n",
       " 200,\n",
       " 20,\n",
       " 30,\n",
       " 'abc',\n",
       " 'xyz',\n",
       " 10.25,\n",
       " [10, 25, 85, 45],\n",
       " 50,\n",
       " 80,\n",
       " ('Gokul', 100),\n",
       " 'Apple',\n",
       " 'Apple',\n",
       " 'Apple']"
      ]
     },
     "execution_count": 85,
     "metadata": {},
     "output_type": "execute_result"
    }
   ],
   "source": [
    "lst"
   ]
  },
  {
   "cell_type": "code",
   "execution_count": null,
   "id": "9f97782e-39cd-4b6e-af35-4140977a1f9b",
   "metadata": {},
   "outputs": [],
   "source": [
    "lst.insert()   ##(Press shift tab)"
   ]
  },
  {
   "cell_type": "code",
   "execution_count": 86,
   "id": "7e3ca588-bd7b-41cb-8cbe-c34f1277d504",
   "metadata": {},
   "outputs": [],
   "source": [
    "lst.remove(200)"
   ]
  },
  {
   "cell_type": "code",
   "execution_count": 87,
   "id": "ecd29d0c-dbfd-45ca-8e9d-4bb2c5952aed",
   "metadata": {},
   "outputs": [
    {
     "data": {
      "text/plain": [
       "[10,\n",
       " 20,\n",
       " 30,\n",
       " 'abc',\n",
       " 'xyz',\n",
       " 10.25,\n",
       " [10, 25, 85, 45],\n",
       " 50,\n",
       " 80,\n",
       " ('Gokul', 100),\n",
       " 'Apple',\n",
       " 'Apple',\n",
       " 'Apple']"
      ]
     },
     "execution_count": 87,
     "metadata": {},
     "output_type": "execute_result"
    }
   ],
   "source": [
    "lst"
   ]
  },
  {
   "cell_type": "code",
   "execution_count": 88,
   "id": "149d870c-27cb-466a-9e73-474c8d2e08ae",
   "metadata": {},
   "outputs": [],
   "source": [
    "lst.reverse()"
   ]
  },
  {
   "cell_type": "code",
   "execution_count": 89,
   "id": "00b31450-5491-4915-b087-a9260fbea097",
   "metadata": {},
   "outputs": [
    {
     "data": {
      "text/plain": [
       "['Apple',\n",
       " 'Apple',\n",
       " 'Apple',\n",
       " ('Gokul', 100),\n",
       " 80,\n",
       " 50,\n",
       " [10, 25, 85, 45],\n",
       " 10.25,\n",
       " 'xyz',\n",
       " 'abc',\n",
       " 30,\n",
       " 20,\n",
       " 10]"
      ]
     },
     "execution_count": 89,
     "metadata": {},
     "output_type": "execute_result"
    }
   ],
   "source": [
    "lst"
   ]
  },
  {
   "cell_type": "code",
   "execution_count": 94,
   "id": "a6256481-92b9-473a-ac3a-5429055c7d32",
   "metadata": {},
   "outputs": [
    {
     "data": {
      "text/plain": [
       "['Apple',\n",
       " 'Apple',\n",
       " 'Apple',\n",
       " ('Gokul', 100),\n",
       " 80,\n",
       " 50,\n",
       " [10, 25, 85, 45],\n",
       " 10.25,\n",
       " 'xyz',\n",
       " 'abc',\n",
       " 30,\n",
       " 20,\n",
       " 10]"
      ]
     },
     "execution_count": 94,
     "metadata": {},
     "output_type": "execute_result"
    }
   ],
   "source": [
    "lst.copy()"
   ]
  },
  {
   "cell_type": "markdown",
   "id": "d117a5df-5cda-4954-aa35-c32d92520f4a",
   "metadata": {},
   "source": [
    "# Tuple"
   ]
  },
  {
   "cell_type": "code",
   "execution_count": 95,
   "id": "d7a9526f-42ba-4c1a-ab7e-9c17472f3fe2",
   "metadata": {},
   "outputs": [],
   "source": [
    "tup=(10,20,30,40,50)"
   ]
  },
  {
   "cell_type": "code",
   "execution_count": 96,
   "id": "5b9288d2-ed26-4b29-97d1-c57ff79e8140",
   "metadata": {},
   "outputs": [
    {
     "data": {
      "text/plain": [
       "(10, 20, 30, 40, 50)"
      ]
     },
     "execution_count": 96,
     "metadata": {},
     "output_type": "execute_result"
    }
   ],
   "source": [
    "tup"
   ]
  },
  {
   "cell_type": "markdown",
   "id": "6704a4f4-3cb1-4345-b9d2-4acc34ae1a19",
   "metadata": {},
   "source": [
    "# Set"
   ]
  },
  {
   "cell_type": "code",
   "execution_count": 99,
   "id": "9d50d1d1-fde5-450a-ae34-f5697252c9cd",
   "metadata": {},
   "outputs": [],
   "source": [
    "set = {(10,20,30,40,50),\"Gokul\",(60,70,80),\"End\"}"
   ]
  },
  {
   "cell_type": "code",
   "execution_count": 112,
   "id": "b5295922-75f0-426b-bbb2-e75db645550e",
   "metadata": {},
   "outputs": [
    {
     "ename": "KeyError",
     "evalue": "2",
     "output_type": "error",
     "traceback": [
      "\u001b[1;31m---------------------------------------------------------------------------\u001b[0m",
      "\u001b[1;31mKeyError\u001b[0m                                  Traceback (most recent call last)",
      "Cell \u001b[1;32mIn[112], line 1\u001b[0m\n\u001b[1;32m----> 1\u001b[0m \u001b[38;5;28;43mset\u001b[39;49m\u001b[38;5;241;43m.\u001b[39;49m\u001b[43mremove\u001b[49m\u001b[43m(\u001b[49m\u001b[38;5;241;43m2\u001b[39;49m\u001b[43m)\u001b[49m\n",
      "\u001b[1;31mKeyError\u001b[0m: 2"
     ]
    }
   ],
   "source": [
    "set.remove()"
   ]
  },
  {
   "cell_type": "code",
   "execution_count": 113,
   "id": "635e9395-f553-4ac4-839e-e67088f86a48",
   "metadata": {},
   "outputs": [],
   "source": [
    "set_1={1,2,3,4,5}\n",
    "set_2={1,2,3,4,5}"
   ]
  },
  {
   "cell_type": "code",
   "execution_count": 117,
   "id": "d625b84d-3207-4dcc-bad7-69a16a7915cd",
   "metadata": {},
   "outputs": [
    {
     "data": {
      "text/plain": [
       "{1, 2, 3, 4, 5}"
      ]
     },
     "execution_count": 117,
     "metadata": {},
     "output_type": "execute_result"
    }
   ],
   "source": [
    "set_1.copy()"
   ]
  },
  {
   "cell_type": "code",
   "execution_count": 121,
   "id": "95246dd3-f1e6-4a2a-b213-165de34fb6b1",
   "metadata": {},
   "outputs": [],
   "source": [
    "set_1={1,2,9,4,5}\n",
    "set_2={6,7,8,9,10}"
   ]
  },
  {
   "cell_type": "code",
   "execution_count": 122,
   "id": "fd0594be-af12-4131-a041-b1e73fd1515a",
   "metadata": {},
   "outputs": [
    {
     "data": {
      "text/plain": [
       "{1, 2, 4, 5}"
      ]
     },
     "execution_count": 122,
     "metadata": {},
     "output_type": "execute_result"
    }
   ],
   "source": [
    "set_1.difference(set_2)    ## finds difference"
   ]
  },
  {
   "cell_type": "code",
   "execution_count": 123,
   "id": "b9d71b65-46bc-4da3-bed5-57ce7e418e62",
   "metadata": {},
   "outputs": [],
   "source": [
    "set_1={1,2,9,4,5,9}      ## Removed duplicate"
   ]
  },
  {
   "cell_type": "code",
   "execution_count": 125,
   "id": "07cebe41-b3bc-4d7a-88b2-c1679ddbebe2",
   "metadata": {},
   "outputs": [
    {
     "data": {
      "text/plain": [
       "{1, 2, 4, 5, 9}"
      ]
     },
     "execution_count": 125,
     "metadata": {},
     "output_type": "execute_result"
    }
   ],
   "source": [
    "set_1"
   ]
  },
  {
   "cell_type": "markdown",
   "id": "35265007-34e0-4f14-8e10-f60c5ab0ac3e",
   "metadata": {},
   "source": [
    "# Dictionary "
   ]
  },
  {
   "cell_type": "code",
   "execution_count": 1,
   "id": "766b1f57-f963-4ffe-807f-9409a649cda9",
   "metadata": {},
   "outputs": [],
   "source": [
    "Dic_1={\"Name\":\"Gokul\",\"Age\":\"31\",\"Sports\":[\"Cricket\",\"Volleyball\"]}"
   ]
  },
  {
   "cell_type": "code",
   "execution_count": 2,
   "id": "5dfbc24c-1ea4-4220-8fc9-fc51dedbbf1b",
   "metadata": {},
   "outputs": [
    {
     "data": {
      "text/plain": [
       "{'Name': 'Gokul', 'Age': '31', 'Sports': ['Cricket', 'Volleyball']}"
      ]
     },
     "execution_count": 2,
     "metadata": {},
     "output_type": "execute_result"
    }
   ],
   "source": [
    "Dic_1"
   ]
  },
  {
   "cell_type": "code",
   "execution_count": 3,
   "id": "1272be5f-7f3b-4b5f-a7fd-34b7f5ab3bb7",
   "metadata": {},
   "outputs": [
    {
     "data": {
      "text/plain": [
       "dict_keys(['Name', 'Age', 'Sports'])"
      ]
     },
     "execution_count": 3,
     "metadata": {},
     "output_type": "execute_result"
    }
   ],
   "source": [
    "Dic_1.keys()"
   ]
  },
  {
   "cell_type": "code",
   "execution_count": null,
   "id": "33f9f32c-5eab-4319-b0e5-3819507b1b01",
   "metadata": {},
   "outputs": [],
   "source": []
  },
  {
   "cell_type": "code",
   "execution_count": null,
   "id": "6e8aab28-fe23-42d3-a1f2-e0f5513acd0c",
   "metadata": {},
   "outputs": [],
   "source": []
  }
 ],
 "metadata": {
  "kernelspec": {
   "display_name": "Python 3 (ipykernel)",
   "language": "python",
   "name": "python3"
  },
  "language_info": {
   "codemirror_mode": {
    "name": "ipython",
    "version": 3
   },
   "file_extension": ".py",
   "mimetype": "text/x-python",
   "name": "python",
   "nbconvert_exporter": "python",
   "pygments_lexer": "ipython3",
   "version": "3.13.2"
  }
 },
 "nbformat": 4,
 "nbformat_minor": 5
}
